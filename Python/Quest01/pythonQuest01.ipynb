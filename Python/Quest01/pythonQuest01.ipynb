{
  "nbformat": 4,
  "nbformat_minor": 0,
  "metadata": {
    "colab": {
      "provenance": [],
      "authorship_tag": "ABX9TyNAKIu+WsyRb+v9J5lMvjJX",
      "include_colab_link": true
    },
    "kernelspec": {
      "name": "python3",
      "display_name": "Python 3"
    },
    "language_info": {
      "name": "python"
    }
  },
  "cells": [
    {
      "cell_type": "markdown",
      "metadata": {
        "id": "view-in-github",
        "colab_type": "text"
      },
      "source": [
        "<a href=\"https://colab.research.google.com/github/88chacha/first-repository/blob/master/Python/Quest01/pythonQuest01.ipynb\" target=\"_parent\"><img src=\"https://colab.research.google.com/assets/colab-badge.svg\" alt=\"Open In Colab\"/></a>"
      ]
    },
    {
      "cell_type": "code",
      "execution_count": 1,
      "metadata": {
        "colab": {
          "base_uri": "https://localhost:8080/"
        },
        "id": "JwgtXRrYnpya",
        "outputId": "cd6ee239-9976-40fb-802a-a7962c7147ca"
      },
      "outputs": [
        {
          "output_type": "stream",
          "name": "stdout",
          "text": [
            "hello world!\n"
          ]
        }
      ],
      "source": [
        "print('hello world!')"
      ]
    },
    {
      "cell_type": "markdown",
      "source": [
        "# 제목\n",
        "\n",
        "본문\n",
        "\n",
        "퀘스트 내용\n",
        "퀘스트 조건\n",
        "* 조건1\n",
        "* 조건2"
      ],
      "metadata": {
        "id": "qvx9TGe5n11z"
      }
    },
    {
      "cell_type": "code",
      "source": [
        "print('hello world!')\n"
      ],
      "metadata": {
        "colab": {
          "base_uri": "https://localhost:8080/"
        },
        "id": "LiY5Iysrntze",
        "outputId": "80163b04-af77-476f-f060-70802fc49508"
      },
      "execution_count": 2,
      "outputs": [
        {
          "output_type": "stream",
          "name": "stdout",
          "text": [
            "hello world!\n"
          ]
        }
      ]
    },
    {
      "cell_type": "code",
      "source": [],
      "metadata": {
        "id": "ZEhTvyCNojWu"
      },
      "execution_count": null,
      "outputs": []
    }
  ]
}